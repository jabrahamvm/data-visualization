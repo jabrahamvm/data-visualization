{
 "cells": [
  {
   "cell_type": "markdown",
   "metadata": {},
   "source": [
    "### Analisis de incidencias delictivas en el estado de Sonora\n",
    "Utilizando los datos proporcionados por el gobierno de México acerca de las incidencias delictivas en el país, se creo una base de datos filtrando la información para obtener las incidencias delictivas en el estado.\n",
    "\n",
    "En la presente libreta se realizan las consultas necesarias para realizar un analisis de las denuncias en Sonora desde 2015 hasta 2021, finalizando con la ilustración de los datos obtenidos mediante una gráfica treemap."
   ]
  },
  {
   "cell_type": "markdown",
   "metadata": {},
   "source": [
    "#### Importamos las librerias que utilizaremos"
   ]
  },
  {
   "cell_type": "code",
   "execution_count": 1,
   "metadata": {},
   "outputs": [],
   "source": [
    "import db_functions as mysql\n",
    "import pandas as pd\n",
    "from matplotlib import pyplot as plt\n",
    "import os"
   ]
  },
  {
   "cell_type": "markdown",
   "metadata": {},
   "source": [
    "Nos conectamos a la base de datos *denuncias*"
   ]
  },
  {
   "cell_type": "code",
   "execution_count": 2,
   "metadata": {},
   "outputs": [
    {
     "name": "stdout",
     "output_type": "stream",
     "text": [
      "C:/Users/abrah/Documents/Repos/data-visualization\n"
     ]
    }
   ],
   "source": [
    "# Loading credentials\n",
    "if(os.environ.get(\"DB_TYPE\") == None):\n",
    "    from dotenv import load_dotenv\n",
    "    from config.definitions import ROOT_DIR\n",
    "    print(ROOT_DIR)\n",
    "    load_dotenv(os.path.join(ROOT_DIR, 'config', 'conf', '.env'))"
   ]
  },
  {
   "cell_type": "code",
   "execution_count": 3,
   "metadata": {},
   "outputs": [
    {
     "name": "stdout",
     "output_type": "stream",
     "text": [
      "MySQL DB connection succesful\n"
     ]
    }
   ],
   "source": [
    "connection = mysql.create_db_connection(\"localhost\",os.environ.get(\"DB_USER\"),os.environ.get(\"DB_PASS\"),os.environ.get(\"DB_NAME\"))"
   ]
  },
  {
   "cell_type": "markdown",
   "metadata": {},
   "source": [
    "Para el analisis debemos tener en cuenta los siguientes puntos:\n",
    " * Utilizaremos la vista **v_delitos_son** para realizar nuestras consultas a la base de datos\n",
    " * Necesitamos filtrar la información por año.\n",
    " * Nos interesa la frecuencia con la que ocurrio un tipo de delito.\n",
    " * Realizaremos un treemap por año y uno final que contenga todos."
   ]
  },
  {
   "cell_type": "code",
   "execution_count": 4,
   "metadata": {},
   "outputs": [],
   "source": [
    "# Tipos de delito\n",
    "query = \"\"\"\n",
    "SELECT DISTINCT TipoDelito FROM v_delitos_son;\n",
    "\"\"\""
   ]
  },
  {
   "cell_type": "code",
   "execution_count": 5,
   "metadata": {},
   "outputs": [],
   "source": [
    "tipos = mysql.read_query(connection,query)"
   ]
  },
  {
   "cell_type": "code",
   "execution_count": 6,
   "metadata": {},
   "outputs": [],
   "source": [
    "tipos_l = [t[0] for t in tipos]"
   ]
  },
  {
   "cell_type": "code",
   "execution_count": 7,
   "metadata": {},
   "outputs": [
    {
     "data": {
      "text/plain": [
       "['Lesiones',\n",
       " 'Tráfico de menores',\n",
       " 'Otros delitos que atentan contra la libertad personal',\n",
       " 'Corrupción de menores',\n",
       " 'Homicidio',\n",
       " 'Rapto',\n",
       " 'Trata de personas',\n",
       " 'Feminicidio',\n",
       " 'Otros delitos que atentan contra la vida y la integridad corporal',\n",
       " 'Secuestro',\n",
       " 'Otros delitos contra la sociedad',\n",
       " 'Extorsión',\n",
       " 'Aborto']"
      ]
     },
     "execution_count": 7,
     "metadata": {},
     "output_type": "execute_result"
    }
   ],
   "source": [
    "tipos_l"
   ]
  },
  {
   "cell_type": "markdown",
   "metadata": {},
   "source": [
    "### Incidencias delictivas en Sonora en 1995"
   ]
  },
  {
   "cell_type": "code",
   "execution_count": 14,
   "metadata": {},
   "outputs": [],
   "source": [
    "### Incidencias delictivas en Sonora en 1995\n",
    "# Query\n",
    "query = \"\"\"\n",
    "SELECT TipoDelito, SUM(Ocurrencias) FROM v_delitos_son WHERE YEAR(Fecha) = 2015 GROUP BY TipoDelito;\n",
    "\"\"\""
   ]
  },
  {
   "cell_type": "code",
   "execution_count": 15,
   "metadata": {},
   "outputs": [],
   "source": [
    "del_1995 = mysql.read_query(connection,query)"
   ]
  },
  {
   "cell_type": "code",
   "execution_count": 16,
   "metadata": {},
   "outputs": [
    {
     "name": "stdout",
     "output_type": "stream",
     "text": [
      "[('Lesiones', Decimal('3858')), ('Tráfico de menores', Decimal('44')), ('Otros delitos que atentan contra la libertad personal', Decimal('211')), ('Corrupción de menores', Decimal('139')), ('Homicidio', Decimal('1135')), ('Feminicidio', Decimal('24')), ('Rapto', Decimal('21')), ('Extorsión', Decimal('23')), ('Otros delitos que atentan contra la vida y la integridad corporal', Decimal('3')), ('Secuestro', Decimal('10')), ('Aborto', Decimal('3'))]\n"
     ]
    }
   ],
   "source": [
    "print(del_1995)"
   ]
  },
  {
   "cell_type": "code",
   "execution_count": 17,
   "metadata": {},
   "outputs": [],
   "source": [
    "connection.close()"
   ]
  }
 ],
 "metadata": {
  "kernelspec": {
   "display_name": "Python 3.7.15 ('db-env')",
   "language": "python",
   "name": "python3"
  },
  "language_info": {
   "codemirror_mode": {
    "name": "ipython",
    "version": 3
   },
   "file_extension": ".py",
   "mimetype": "text/x-python",
   "name": "python",
   "nbconvert_exporter": "python",
   "pygments_lexer": "ipython3",
   "version": "3.7.15"
  },
  "orig_nbformat": 4,
  "vscode": {
   "interpreter": {
    "hash": "a5d195cd68ef634e55f72d49fff30c66b9d92b9fe6521585c576901d6ddfaf93"
   }
  }
 },
 "nbformat": 4,
 "nbformat_minor": 2
}
